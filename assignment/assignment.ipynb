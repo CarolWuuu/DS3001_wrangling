{
  "cells": [
    {
      "cell_type": "markdown",
      "id": "13ad028b-72b7-43ed-aa78-96fd4e518040",
      "metadata": {
        "id": "13ad028b-72b7-43ed-aa78-96fd4e518040"
      },
      "source": [
        "# Assignment: Data Wrangling"
      ]
    },
    {
      "cell_type": "markdown",
      "id": "5735a4d4-8be8-433a-a351-70eb8002e632",
      "metadata": {
        "id": "5735a4d4-8be8-433a-a351-70eb8002e632"
      },
      "source": [
        "**Q1.** Open the \"tidy_data.pdf\" document in the repo, which is a paper called Tidy Data by Hadley Wickham.\n",
        "\n",
        "  1. Read the abstract. What is this paper about?\n",
        "  - This paper is about methods and advtanges of data tidying.\n",
        "  2. Read the introduction. What is the \"tidy data standard\" intended to accomplish?\n",
        "  - \"Tidy data standard\" intended to provide a standard way to organize data within a dataset, to faciliate the inital data exploration process, and simplify the development of data analysis tools.\n",
        "  3. Read the intro to section 2. What does this sentence mean: \"Like families, tidy datasets are all alike but every messy dataset is messy in its own way.\" What does this sentence mean: \"For a given dataset, it’s usually easy to figure out what are observations and what are variables, but it is surprisingly difficult to precisely define variables and observations in general.\"\n",
        "  - Tidy datasets are standardized in uniform format, whereas messy datasets are not organized under standard rules.\n",
        "  - Variables, for example, could be height and width. But they could be treated as observations of varible \"dimension\".\n",
        "  4. Read Section 2.2. How does Wickham define values, variables, and observations?\n",
        "  - Values are usually either a number or a string. They are belongs to a variable and an observation.\n",
        "  - A variable contains all values that measure the same attribute across units.\n",
        "  - An observation contains all values that measure the same units across attributes.\n",
        "  5. How is \"Tidy Data\" defined in section 2.3?\n",
        "  - In Tidy data:\n",
        "- each variable forms a column\n",
        "- each observation forms a row\n",
        "- each type of observational unit forms a table\n",
        "\n",
        "  6. Read the intro to Section 3 and Section 3.1. What are the 5 most common problems with messy datasets? Why are the data in Table 4 messy? What is \"melting\" a dataset?\n",
        "  - 5 problems:\n",
        "- column headers are values not variable names\n",
        "- multiple variables are stored in the same column\n",
        "- variables are stored in both rows and columns\n",
        "- multiple types of observational units are stored in the same table\n",
        "- a single observational unit is stored in multiple tables\n",
        "  - Table 4: column headers are values not variable names; variables are stored in rows\n",
        "  - Melting a dataset is to turn columns into rows\n",
        "  7. Why, specifically, is table 11 messy but table 12 tidy and \"molten\"?\n",
        "  - Table 11 is messy because multiple types are stored in one table.\n",
        "  - Table 12A is molten because it turns column for each possible day as value under variable date. Table 12B is tidy because after turning element types into variables, each row now represents measurements for a single day.\n",
        "  8. Read Section 6. What is the \"chicken-and-egg\" problem with focusing on tidy data? What does Wickham hope happens in the future with further work on the subject of data wrangling?\n",
        "  - If tidy data is only as useful as the tools that work with it, then tidy tools will be inextricably linked to tidy data.\n",
        "  - He hopes others will build on this framework to develop even better data storage strtegies and better tools."
      ]
    },
    {
      "cell_type": "code",
      "source": [
        "! git clone https://github.com/CarolWuuu/DS3001_wrangling.git"
      ],
      "metadata": {
        "colab": {
          "base_uri": "https://localhost:8080/"
        },
        "id": "zKrqBPlM6Nir",
        "outputId": "88d34593-21e7-4ffc-d5aa-855d6dc8468f"
      },
      "id": "zKrqBPlM6Nir",
      "execution_count": 4,
      "outputs": [
        {
          "output_type": "stream",
          "name": "stdout",
          "text": [
            "Cloning into 'DS3001_wrangling'...\n",
            "remote: Enumerating objects: 70, done.\u001b[K\n",
            "remote: Counting objects: 100% (49/49), done.\u001b[K\n",
            "remote: Compressing objects: 100% (41/41), done.\u001b[K\n",
            "remote: Total 70 (delta 26), reused 25 (delta 8), pack-reused 21\u001b[K\n",
            "Receiving objects: 100% (70/70), 6.76 MiB | 16.10 MiB/s, done.\n",
            "Resolving deltas: 100% (28/28), done.\n"
          ]
        }
      ]
    },
    {
      "cell_type": "markdown",
      "id": "da879ea7-8aac-48a3-b6c2-daea56d2e072",
      "metadata": {
        "id": "da879ea7-8aac-48a3-b6c2-daea56d2e072"
      },
      "source": [
        "**Q2.** This question provides some practice cleaning variables which have common problems.\n",
        "1. Numeric variable: For `./data/airbnb_hw.csv`, clean the `Price` variable as well as you can, and explain the choices you make. How many missing values do you end up with? (Hint: What happens to the formatting when a price goes over 999 dollars, say from 675 to 1,112?)\n",
        "2. Categorical variable: For the `./data/sharks.csv` data covered in the lecture, clean the \"Type\" variable as well as you can, and explain the choices you make.\n",
        "3. Dummy variable: For the pretrial data covered in the lecture, clean the `WhetherDefendantWasReleasedPretrial` variable as well as you can, and, in particular, replace missing values with `np.nan`.\n",
        "4. Missing values, not at random: For the pretrial data covered in the lecture, clean the `ImposedSentenceAllChargeInContactEvent` variable as well as you can, and explain the choices you make. (Hint: Look at the `SentenceTypeAllChargesAtConvictionInContactEvent` variable.)"
      ]
    },
    {
      "cell_type": "code",
      "source": [
        "import pandas as pd\n",
        "import numpy as np"
      ],
      "metadata": {
        "id": "vkF_gg2XCXab"
      },
      "id": "vkF_gg2XCXab",
      "execution_count": 2,
      "outputs": []
    },
    {
      "cell_type": "code",
      "source": [
        "# Q2.1\n",
        "airbnb_df = pd.read_csv('/content/DS3001_wrangling/assignment/data/airbnb_hw.csv',low_memory=False)"
      ],
      "metadata": {
        "id": "__Rve-BPCaDL"
      },
      "id": "__Rve-BPCaDL",
      "execution_count": null,
      "outputs": []
    },
    {
      "cell_type": "code",
      "source": [
        "airbnb_df.head()\n",
        "# removed the comma in values and cast them into integer type\n",
        "airbnb_df['Price']=airbnb_df['Price'].str.replace(',','').astype(int)"
      ],
      "metadata": {
        "colab": {
          "base_uri": "https://localhost:8080/"
        },
        "id": "7ChUMqh4C-6A",
        "outputId": "8ca5093d-61f5-4a64-b28b-27a05eabea1d"
      },
      "id": "7ChUMqh4C-6A",
      "execution_count": null,
      "outputs": [
        {
          "output_type": "stream",
          "name": "stdout",
          "text": [
            "To clean the variable Price, I first cast them into integer type for futher analysis.\n"
          ]
        }
      ]
    },
    {
      "cell_type": "code",
      "source": [
        "# sorted the column values in descending order\n",
        "# easier to see trends in airbnbs with decreasing price\n",
        "airbnb_df=airbnb_df.sort_values(by='Price',ascending=False)\n",
        "airbnb_df.head()"
      ],
      "metadata": {
        "id": "9XGrddSwI2OU"
      },
      "id": "9XGrddSwI2OU",
      "execution_count": null,
      "outputs": []
    },
    {
      "cell_type": "code",
      "source": [
        "missing_values=airbnb_df['Price'].isnull()\n",
        "num_missing_values=missing_values.sum()\n",
        "print(num_missing_values)"
      ],
      "metadata": {
        "colab": {
          "base_uri": "https://localhost:8080/"
        },
        "id": "rk-O2kZhFSJb",
        "outputId": "d6b3cd47-9d2b-4f35-a647-84bf36ee263b"
      },
      "id": "rk-O2kZhFSJb",
      "execution_count": null,
      "outputs": [
        {
          "output_type": "stream",
          "name": "stdout",
          "text": [
            "0\n"
          ]
        }
      ]
    },
    {
      "cell_type": "code",
      "source": [
        "#Q2.2\n",
        "sharks_df = pd.read_csv('/content/DS3001_wrangling/assignment/data/sharks.csv',low_memory=False)"
      ],
      "metadata": {
        "id": "1nySUEgALY20"
      },
      "id": "1nySUEgALY20",
      "execution_count": 5,
      "outputs": []
    },
    {
      "cell_type": "code",
      "source": [
        "sharks_df['Type'].value_counts()"
      ],
      "metadata": {
        "id": "efC1-EyZLke0",
        "outputId": "8b348f28-f92c-4915-983a-c798ccc59984",
        "colab": {
          "base_uri": "https://localhost:8080/"
        }
      },
      "id": "efC1-EyZLke0",
      "execution_count": null,
      "outputs": [
        {
          "output_type": "execute_result",
          "data": {
            "text/plain": [
              "Unprovoked             4716\n",
              "Provoked                593\n",
              "Invalid                 552\n",
              "Sea Disaster            239\n",
              "Watercraft              142\n",
              "Boat                    109\n",
              "Boating                  92\n",
              "Questionable             10\n",
              "Unconfirmed               1\n",
              "Unverified                1\n",
              "Under investigation       1\n",
              "Boatomg                   1\n",
              "Name: Type, dtype: int64"
            ]
          },
          "metadata": {},
          "execution_count": 24
        }
      ]
    },
    {
      "cell_type": "code",
      "source": [
        "# replace all watercraft relevant types with watercraft, keep concise\n",
        "sharks_df['Type'] = sharks_df['Type'].replace(['Sea Disaster','Watercraft','Boat','Boating','Boatomg'],'Watercraft')\n",
        "# replace all unsure types with np.nan (NaN)\n",
        "sharks_df['Type'] = sharks_df['Type'].replace(['Invalid','Questionable','Unconfirmed','Unverified','Under investigation'],np.nan)\n",
        "sharks_df['Type'].value_counts()\n"
      ],
      "metadata": {
        "id": "YzBwBIl7MHT5",
        "outputId": "27701aeb-4794-43c0-8e4b-f513069a9d4e",
        "colab": {
          "base_uri": "https://localhost:8080/"
        }
      },
      "id": "YzBwBIl7MHT5",
      "execution_count": null,
      "outputs": [
        {
          "output_type": "execute_result",
          "data": {
            "text/plain": [
              "Unprovoked    4716\n",
              "Provoked       593\n",
              "Watercraft     583\n",
              "Name: Type, dtype: int64"
            ]
          },
          "metadata": {},
          "execution_count": 28
        }
      ]
    },
    {
      "cell_type": "code",
      "source": [
        "#Q2.3\n",
        "url = 'http://www.vcsc.virginia.gov/pretrialdataproject/October%202017%20Cohort_Virginia%20Pretrial%20Data%20Project_Deidentified%20FINAL%20Update_10272021.csv'\n",
        "pretrial_df = pd.read_csv(url,low_memory=False)"
      ],
      "metadata": {
        "id": "eaqhSVansRDp"
      },
      "id": "eaqhSVansRDp",
      "execution_count": 9,
      "outputs": []
    },
    {
      "cell_type": "code",
      "source": [
        "#replace 9 with NaN\n",
        "pretrial_df['WhetherDefendantWasReleasedPretrial']=pretrial_df['WhetherDefendantWasReleasedPretrial'].replace(9,np.nan)\n",
        "pretrial_df['WhetherDefendantWasReleasedPretrial'].value_counts()"
      ],
      "metadata": {
        "colab": {
          "base_uri": "https://localhost:8080/"
        },
        "id": "WD825YJuuSCB",
        "outputId": "799f0483-781d-4659-de4d-663f8142c4ca"
      },
      "id": "WD825YJuuSCB",
      "execution_count": 16,
      "outputs": [
        {
          "output_type": "execute_result",
          "data": {
            "text/plain": [
              "1.0    19154\n",
              "0.0     3801\n",
              "Name: WhetherDefendantWasReleasedPretrial, dtype: int64"
            ]
          },
          "metadata": {},
          "execution_count": 16
        }
      ]
    },
    {
      "cell_type": "code",
      "source": [
        "#Q2.4\n",
        "pretrial_df['SentenceTypeAllChargesAtConvictionInContactEvent'].value_counts()\n",
        "# type 9 is missing value, replace imposed with NaN\n",
        "pretrial_df['ImposedSentenceAllChargeInContactEvent']=pretrial_df['ImposedSentenceAllChargeInContactEvent'].mask(pretrial_df['SentenceTypeAllChargesAtConvictionInContactEvent']==9,np.nan)\n",
        "# type 4 is cases where charges are dismissed, replace imposed with 0\n",
        "pretrial_df['ImposedSentenceAllChargeInContactEvent']=pretrial_df['ImposedSentenceAllChargeInContactEvent'].mask(pretrial_df['SentenceTypeAllChargesAtConvictionInContactEvent']==4,0)\n",
        "\n",
        "length_NA = pretrial_df['ImposedSentenceAllChargeInContactEvent'].isnull()\n",
        "num_length_NA = length_NA.sum()\n",
        "print(num_length_NA)"
      ],
      "metadata": {
        "colab": {
          "base_uri": "https://localhost:8080/"
        },
        "id": "6EB1lAdNvyEY",
        "outputId": "5cec165e-f6cd-4327-8171-3d2def2b762d"
      },
      "id": "6EB1lAdNvyEY",
      "execution_count": 29,
      "outputs": [
        {
          "output_type": "stream",
          "name": "stdout",
          "text": [
            "274\n"
          ]
        }
      ]
    },
    {
      "cell_type": "markdown",
      "id": "649494cd-cfd6-4f80-992a-9994fc19e1d5",
      "metadata": {
        "id": "649494cd-cfd6-4f80-992a-9994fc19e1d5"
      },
      "source": [
        "**Q3.** Many important datasets contain a race variable, typically limited to a handful of values often including Black, White, Asian, Latino, and Indigenous. This question looks at data gathering efforts on this variable by the U.S. Federal government.\n",
        "\n",
        "1. How did the most recent US Census gather data on race?\n",
        "- Collected race data in the 2020 Census is based on self-identification. People may choose to report more than one race group. People of any race may be of any ethnic origin.\n",
        "2. Why do we gather these data? What role do these kinds of data play in politics and society? Why does data quality matter?\n",
        "- Census data can provide an accurate acount of population count, which will help with allocation of seats in legislative bodies in politics field.\n",
        "- Data quality matters because it ensures characteristic of demographic groups are captured accurately, leading to fair representation in legislative bodies and equitable resources allocations.\n",
        "3. Please provide a constructive criticism of how the Census was conducted: What was done well? What do you think was missing? How should future large scale surveys be adjusted to best reflect the diversity of the population? Could some of the Census' good practices be adopted more widely to gather richer and more useful data?\n",
        "- The Census in 2020 included a broad range of race and ethnic group, but more detailed racial group could also be included (i.e. German, Italian, French, etc under European ancestry)\n",
        "- The \"check all that apply\" option is a good practice in collecting racial and ethnic data and should be adopted more widely to gather more richer data.\n",
        "4. How did the Census gather data on sex and gender? Please provide a similar constructive criticism of their practices.\n",
        "- The sex category was not clearly specified: it didn't clarify if it is gender identity assigned at birth. It should give options such as \"I prefer not to answer as well\".\n",
        "5. When it comes to cleaning data, what concerns do you have about protected characteristics like sex, gender, sexual identity, or race? What challenges can you imagine arising when there are missing values? What good or bad practices might people adopt, and why?\n",
        "- Underrepresentation of minority group who live in remote areas and couldn't be reached for data collection may cause issue with biases in downstream analysis.\n",
        "- Imputing missing values inapproriately could introduce biases in analysis, affecting validity of dataset.\n",
        "- Clearly documented data collection method used by the US Census should be adopted by more people as it ensures transparency and reproducibility of the results.\n",
        "6. Suppose someone invented an algorithm to impute values for protected characteristics like race, gender, sex, or sexuality. What kinds of concerns would you have?\n",
        "- Algorithms that impute values for those protected characteristics may compress some categories down into more general subcatergories, which introduces loss of information and nuances for further analysis."
      ]
    }
  ],
  "metadata": {
    "colab": {
      "provenance": []
    },
    "kernelspec": {
      "display_name": "Python 3 (ipykernel)",
      "language": "python",
      "name": "python3"
    },
    "language_info": {
      "codemirror_mode": {
        "name": "ipython",
        "version": 3
      },
      "file_extension": ".py",
      "mimetype": "text/x-python",
      "name": "python",
      "nbconvert_exporter": "python",
      "pygments_lexer": "ipython3",
      "version": "3.10.4"
    }
  },
  "nbformat": 4,
  "nbformat_minor": 5
}